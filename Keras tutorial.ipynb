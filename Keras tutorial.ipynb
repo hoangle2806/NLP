{
 "cells": [
  {
   "cell_type": "markdown",
   "metadata": {},
   "source": [
    "# Sequential Model"
   ]
  },
  {
   "cell_type": "code",
   "execution_count": 2,
   "metadata": {},
   "outputs": [],
   "source": [
    "from keras.models import Sequential\n",
    "from keras.layers import Dense, Activation"
   ]
  },
  {
   "cell_type": "code",
   "execution_count": 10,
   "metadata": {},
   "outputs": [],
   "source": [
    "model= Sequential()\n",
    "model.add(Dense(32, input_dim= 100))\n",
    "model.add(Activation('relu'))\n",
    "model.add(Dense(1))\n",
    "model.add(Activation('softmax'))"
   ]
  },
  {
   "cell_type": "markdown",
   "metadata": {},
   "source": [
    "Training model will be done via `compile` method"
   ]
  },
  {
   "cell_type": "code",
   "execution_count": 11,
   "metadata": {},
   "outputs": [],
   "source": [
    "model.compile(optimizer= 'rmsprop', \n",
    "             loss='mse',\n",
    "             metrics=['accuracy'])"
   ]
  },
  {
   "cell_type": "code",
   "execution_count": 12,
   "metadata": {},
   "outputs": [
    {
     "name": "stdout",
     "output_type": "stream",
     "text": [
      "Epoch 1/10\n",
      "1000/1000 [==============================] - 0s 241us/step - loss: 0.5080 - acc: 0.4920\n",
      "Epoch 2/10\n",
      "1000/1000 [==============================] - 0s 27us/step - loss: 0.5080 - acc: 0.4920\n",
      "Epoch 3/10\n",
      "1000/1000 [==============================] - 0s 28us/step - loss: 0.5080 - acc: 0.4920\n",
      "Epoch 4/10\n",
      "1000/1000 [==============================] - 0s 26us/step - loss: 0.5080 - acc: 0.4920\n",
      "Epoch 5/10\n",
      "1000/1000 [==============================] - 0s 26us/step - loss: 0.5080 - acc: 0.4920\n",
      "Epoch 6/10\n",
      "1000/1000 [==============================] - 0s 29us/step - loss: 0.5080 - acc: 0.4920\n",
      "Epoch 7/10\n",
      "1000/1000 [==============================] - 0s 27us/step - loss: 0.5080 - acc: 0.4920\n",
      "Epoch 8/10\n",
      "1000/1000 [==============================] - 0s 27us/step - loss: 0.5080 - acc: 0.4920\n",
      "Epoch 9/10\n",
      "1000/1000 [==============================] - 0s 26us/step - loss: 0.5080 - acc: 0.4920\n",
      "Epoch 10/10\n",
      "1000/1000 [==============================] - 0s 27us/step - loss: 0.5080 - acc: 0.4920\n"
     ]
    },
    {
     "data": {
      "text/plain": [
       "<keras.callbacks.History at 0xb2510d150>"
      ]
     },
     "execution_count": 12,
     "metadata": {},
     "output_type": "execute_result"
    }
   ],
   "source": [
    "# To train the model, you will need to use the `fit` function\n",
    "\n",
    "import numpy as np\n",
    "data = np.random.random((1000,100))\n",
    "labels = np.random.randint(2, size=(1000,1))\n",
    "\n",
    "# Train the model, iterating on the data in batches of 32 samples\n",
    "model.fit(data,\n",
    "         labels,\n",
    "         epochs= 10,\n",
    "         batch_size= 32)"
   ]
  },
  {
   "cell_type": "markdown",
   "metadata": {},
   "source": [
    "# Keras layers"
   ]
  },
  {
   "cell_type": "markdown",
   "metadata": {},
   "source": [
    "All Keras layer have a number of methods in common."
   ]
  },
  {
   "cell_type": "code",
   "execution_count": 13,
   "metadata": {},
   "outputs": [],
   "source": [
    "from keras import layers"
   ]
  },
  {
   "cell_type": "code",
   "execution_count": null,
   "metadata": {},
   "outputs": [],
   "source": [
    "config= layers.get_config()\n",
    "layer = layers.de"
   ]
  }
 ],
 "metadata": {
  "kernelspec": {
   "display_name": "Python 2",
   "language": "python",
   "name": "python2"
  },
  "language_info": {
   "codemirror_mode": {
    "name": "ipython",
    "version": 2
   },
   "file_extension": ".py",
   "mimetype": "text/x-python",
   "name": "python",
   "nbconvert_exporter": "python",
   "pygments_lexer": "ipython2",
   "version": "2.7.16"
  }
 },
 "nbformat": 4,
 "nbformat_minor": 2
}
